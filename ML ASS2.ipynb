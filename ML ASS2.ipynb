{
 "cells": [
  {
   "cell_type": "code",
   "execution_count": 7,
   "id": "6a6d19b1",
   "metadata": {},
   "outputs": [
    {
     "name": "stdout",
     "output_type": "stream",
     "text": [
      "20 40 60 80 100 "
     ]
    }
   ],
   "source": [
    "my_List=[10,20,30,40,50,60,70,80,90,100]\n",
    "for i in range(len(my_List)):\n",
    "    if i%2!=0:\n",
    "        print(my_List[i],end=\" \")\n"
   ]
  },
  {
   "cell_type": "code",
   "execution_count": 8,
   "id": "828c3a55",
   "metadata": {},
   "outputs": [
    {
     "name": "stdout",
     "output_type": "stream",
     "text": [
      "[1, 2, 3, 4, 5]\n"
     ]
    }
   ],
   "source": [
    "Sample_List=[1,2,3,3,3,3,4,5]\n",
    "Unique_List=list(set(Sample_List))\n",
    "print(Unique_List)"
   ]
  },
  {
   "cell_type": "code",
   "execution_count": 9,
   "id": "7c5bbb96",
   "metadata": {},
   "outputs": [
    {
     "name": "stdout",
     "output_type": "stream",
     "text": [
      "No. of Upper-case characters: 3\n",
      "No. of Lowwer-case characters: 12\n"
     ]
    }
   ],
   "source": [
    "Input_String='The quick Brow Fox'\n",
    "upper=0\n",
    "lower=0\n",
    "for i in Input_String:\n",
    "    if(i.isupper()):\n",
    "        upper=upper+1\n",
    "    else:\n",
    "        if(i.islower()):\n",
    "            lower=lower+1\n",
    "print(\"No. of Upper-case characters: \"+str(upper))\n",
    "print(\"No. of Lowwer-case characters: \"+str(lower))"
   ]
  },
  {
   "cell_type": "code",
   "execution_count": 12,
   "id": "257e36e6",
   "metadata": {},
   "outputs": [
    {
     "name": "stdout",
     "output_type": "stream",
     "text": [
      "[23, 'Python', 23.98]\n",
      "[<class 'int'>, <class 'str'>, <class 'float'>]\n"
     ]
    }
   ],
   "source": [
    "x = [23, 'Python', 23.98]\n",
    "types=[]\n",
    "for each_element in x:\n",
    "    types.append(type(each_element))\n",
    "print(x)\n",
    "print(types)"
   ]
  },
  {
   "cell_type": "code",
   "execution_count": 15,
   "id": "b024ad5c",
   "metadata": {},
   "outputs": [
    {
     "name": "stdout",
     "output_type": "stream",
     "text": [
      "* \n",
      "* * \n",
      "* * * \n",
      "* * * * \n",
      "* * * * * \n",
      "* * * * \n",
      "* * * \n",
      "* * \n",
      "* \n"
     ]
    }
   ],
   "source": [
    "i,j=0,0\n",
    "while(i<9):\n",
    "    if(i<5):\n",
    "        j+=1\n",
    "    else:\n",
    "        j-=1\n",
    "    for k in range(0,j):\n",
    "        print(\"*\",end=\" \")\n",
    "    print(\"\")\n",
    "    i+=1"
   ]
  },
  {
   "cell_type": "code",
   "execution_count": null,
   "id": "4b3de775",
   "metadata": {},
   "outputs": [],
   "source": []
  }
 ],
 "metadata": {
  "kernelspec": {
   "display_name": "Python 3 (ipykernel)",
   "language": "python",
   "name": "python3"
  },
  "language_info": {
   "codemirror_mode": {
    "name": "ipython",
    "version": 3
   },
   "file_extension": ".py",
   "mimetype": "text/x-python",
   "name": "python",
   "nbconvert_exporter": "python",
   "pygments_lexer": "ipython3",
   "version": "3.9.13"
  }
 },
 "nbformat": 4,
 "nbformat_minor": 5
}
